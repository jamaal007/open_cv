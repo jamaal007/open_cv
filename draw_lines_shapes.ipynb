{
 "cells": [
  {
   "cell_type": "markdown",
   "metadata": {},
   "source": [
    "# Draw Lines and Shape "
   ]
  },
  {
   "cell_type": "code",
   "execution_count": 1,
   "metadata": {},
   "outputs": [],
   "source": [
    "# import libraries \n",
    "import cv2 as cv \n",
    "import numpy as np "
   ]
  },
  {
   "cell_type": "markdown",
   "metadata": {},
   "source": [
    "1- Draw a Canvas"
   ]
  },
  {
   "cell_type": "code",
   "execution_count": 5,
   "metadata": {},
   "outputs": [],
   "source": [
    "# import libraries \n",
    "import cv2 as cv \n",
    "import numpy as np \n",
    "\n",
    "# 1- draw a canvas   0 is for black \n",
    "img=np.zeros((600,600))\n",
    "\n",
    "# ones is for white\n",
    "img1=np.ones((600,600))\n",
    "\n",
    "cv.imshow(\"Black Canvas\", img)\n",
    "cv.imshow(\"White canvas\", img1)\n",
    "\n",
    "cv.waitKey(0)\n",
    "cv.destroyAllWindows()"
   ]
  },
  {
   "cell_type": "markdown",
   "metadata": {},
   "source": [
    "2- Print the matix of Canvas"
   ]
  },
  {
   "cell_type": "code",
   "execution_count": 8,
   "metadata": {},
   "outputs": [
    {
     "name": "stdout",
     "output_type": "stream",
     "text": [
      "The size of our canvas is : (600, 600)\n",
      "The actual Matrix [[0. 0. 0. ... 0. 0. 0.]\n",
      " [0. 0. 0. ... 0. 0. 0.]\n",
      " [0. 0. 0. ... 0. 0. 0.]\n",
      " ...\n",
      " [0. 0. 0. ... 0. 0. 0.]\n",
      " [0. 0. 0. ... 0. 0. 0.]\n",
      " [0. 0. 0. ... 0. 0. 0.]]\n"
     ]
    }
   ],
   "source": [
    "# import libraries \n",
    "import cv2 as cv \n",
    "import numpy as np \n",
    "\n",
    "# 1- draw a canvas   0 is for black \n",
    "img=np.zeros((600,600))\n",
    "\n",
    "# 2- The size of a canvas\n",
    "print(\"The size of our canvas is :\", img.shape)\n",
    "print(\"The actual Matrix\", img)\n",
    "\n",
    "cv.imshow(\"Black Canvas\", img)\n",
    "cv.waitKey(0)\n",
    "cv.destroyAllWindows()"
   ]
  },
  {
   "cell_type": "markdown",
   "metadata": {},
   "source": [
    "3- Adding colors to canvas"
   ]
  },
  {
   "cell_type": "code",
   "execution_count": 25,
   "metadata": {},
   "outputs": [
    {
     "name": "stdout",
     "output_type": "stream",
     "text": [
      "The size of our canvas is : (600, 600)\n"
     ]
    }
   ],
   "source": [
    "# import libraries \n",
    "import cv2 as cv \n",
    "import numpy as np \n",
    "\n",
    "# 1- draw a canvas   0 is for black \n",
    "img=np.zeros((600,600))\n",
    "\n",
    "# 2- The size of a canvas\n",
    "print(\"The size of our canvas is :\", img.shape)\n",
    "\n",
    "# adding colors\n",
    "colored_img=np.zeros((600,600,3), np.uint8)  # 3 means three channels\n",
    "colored_img[:]= 255,0,255                    # : complete image and = color key\n",
    "colored_img[150:230, 100:207]=255,0,0        # colord the part of image \n",
    "\n",
    "# adding line\n",
    "cv.line(colored_img, (0,0),(colored_img.shape[0],colored_img.shape[1]),(255,0,0), 3)  #crossed line\n",
    "cv.line(colored_img, (20,20),(300,300),(255,255,50), 3)                               # part of lines \n",
    "\n",
    "\n",
    "cv.imshow(\"Black Canvas\", img)\n",
    "cv.imshow(\"Colored Image\", colored_img)\n",
    "cv.waitKey(0)\n",
    "cv.destroyAllWindows()"
   ]
  },
  {
   "cell_type": "markdown",
   "metadata": {},
   "source": [
    "4- Adding Rectangle  "
   ]
  },
  {
   "cell_type": "code",
   "execution_count": 55,
   "metadata": {},
   "outputs": [
    {
     "name": "stdout",
     "output_type": "stream",
     "text": [
      "The size of our canvas is : (600, 600)\n"
     ]
    }
   ],
   "source": [
    "# import libraries \n",
    "import cv2 as cv \n",
    "import numpy as np \n",
    "\n",
    "# 1- draw a canvas   0 is for wblack \n",
    "img=np.zeros((600,600))\n",
    "\n",
    "# 2- The size of a canvas\n",
    "print(\"The size of our canvas is :\", img.shape)\n",
    "\n",
    "# 3- adding rectangle \n",
    "cv.rectangle(img, (50,100),(300,400), (255,255,255),3)\n",
    "\n",
    "# 4- fill the color in rectangle\n",
    "# cv.rectangle(img, (50,100),(300,400), (255,255,255),100)  # increased the thickness or (we should used the below code)\n",
    "cv.rectangle(img, (50,100),(300,400), (255,255,255), cv.FILLED)\n",
    "\n",
    "# adding circle\n",
    "cv.circle(img,(400,300),50,(255,100,0),5)\n",
    "\n",
    "# filling the circle\n",
    "cv.circle(img,(400,300),50,(255,100,0),cv.FILLED)\n",
    "\n",
    "\n",
    "\n",
    "cv.imshow(\"Rectangle Added Image\", img)\n",
    "cv.waitKey(0)\n",
    "cv.destroyAllWindows()"
   ]
  },
  {
   "cell_type": "markdown",
   "metadata": {},
   "source": [
    "5- Adding text"
   ]
  },
  {
   "cell_type": "code",
   "execution_count": 57,
   "metadata": {},
   "outputs": [
    {
     "name": "stdout",
     "output_type": "stream",
     "text": [
      "The size of our canvas is : (600, 600)\n"
     ]
    }
   ],
   "source": [
    "# import libraries \n",
    "import cv2 as cv \n",
    "import numpy as np \n",
    "\n",
    "# 1- draw a canvas   0 is for wblack \n",
    "img=np.zeros((600,600))\n",
    "\n",
    "# 2- The size of a canvas\n",
    "print(\"The size of our canvas is :\", img.shape)\n",
    "\n",
    "# 3- adding text\n",
    "cv.putText(img, \"Python Learning By Muhammad Jamal\", (200,500), cv.FONT_HERSHEY_COMPLEX, 1, (255,255,0), 2)\n",
    "# Assignmet: how to bring the above text into two lines \n",
    "\n",
    "cv.imshow(\"Rectangle Added Image\", img)\n",
    "cv.waitKey(0)\n",
    "cv.destroyAllWindows()"
   ]
  },
  {
   "cell_type": "code",
   "execution_count": null,
   "metadata": {},
   "outputs": [],
   "source": []
  }
 ],
 "metadata": {
  "kernelspec": {
   "display_name": "Python 3",
   "language": "python",
   "name": "python3"
  },
  "language_info": {
   "codemirror_mode": {
    "name": "ipython",
    "version": 3
   },
   "file_extension": ".py",
   "mimetype": "text/x-python",
   "name": "python",
   "nbconvert_exporter": "python",
   "pygments_lexer": "ipython3",
   "version": "3.12.4"
  }
 },
 "nbformat": 4,
 "nbformat_minor": 2
}
